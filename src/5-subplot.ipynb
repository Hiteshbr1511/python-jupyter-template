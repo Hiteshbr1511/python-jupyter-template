{
 "cells": [
  {
   "cell_type": "markdown",
   "metadata": {},
   "source": [
    "### Exercise 5: Subplot Layout"
   ]
  },
  {
   "cell_type": "code",
   "execution_count": null,
   "metadata": {},
   "outputs": [],
   "source": [
    "# TASK: Create a 2x2 subplot layout.\n",
    "# Plot a line chart in the first subplot, a bar chart in the second, a scatter plot in the third, and a pie chart in the fourth.\n",
    "import matplotlib.pyplot as plt\n",
    "import numpy as np\n",
    "\n",
    "# Data for plots\n",
    "x = np.linspace(0, 10, 100)\n",
    "y = x**2\n",
    "\n",
    "bar_categories = ['A', 'B', 'C', 'D']\n",
    "bar_values = [5, 7, 3, 9]\n",
    "\n",
    "scatter_x = [1, 2, 3, 4, 5]\n",
    "scatter_y = [2, 4, 6, 8, 10]\n",
    "\n",
    "pie_labels = ['Python', 'Java', 'C++', 'JavaScript']\n",
    "pie_sizes = [40, 25, 20, 15]\n",
    "\n",
    "# Create subplots\n",
    "fig, axes = plt.subplots(2, 2, figsize=(10, 8))\n",
    "\n",
    "# Line chart\n",
    "axes[0, 0].plot(x, y, color='b', linewidth=2)\n",
    "axes[0, 0].set_title(\"Line Chart\")\n",
    "\n",
    "# Bar chart\n",
    "axes[0, 1].bar(bar_categories, bar_values, color=['red', 'blue', 'green', 'purple'])\n",
    "axes[\n"
   ]
  }
 ],
 "metadata": {
  "language_info": {
   "name": "python"
  }
 },
 "nbformat": 4,
 "nbformat_minor": 2
}
