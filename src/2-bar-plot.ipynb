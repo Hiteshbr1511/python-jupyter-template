{
 "cells": [
  {
   "cell_type": "markdown",
   "metadata": {},
   "source": [
    "### Exercise 2: Bar Plot with Colors"
   ]
  },
  {
   "cell_type": "code",
   "execution_count": null,
   "metadata": {},
   "outputs": [],
   "source": [
    "# TASK: Create a bar plot with the following data: categories = ['A', 'B', 'C', 'D'] and values = [5, 7, 3, 9].\n",
    "# Use different colors for each bar and add a title to the plot.\n",
    "import matplotlib.pyplot as plt\n",
    "\n",
    "# Data\n",
    "categories = ['A', 'B', 'C', 'D']\n",
    "values = [5, 7, 3, 9]\n",
    "colors = ['red', 'blue', 'green', 'purple']\n",
    "\n",
    "# Create bar plot\n",
    "plt.figure(figsize=(6, 4))\n",
    "plt.bar(categories, values, color=colors)\n",
    "\n",
    "# Customize plot\n",
    "plt.title(\"Bar Plot of Categories\", fontsize=14)\n",
    "plt.xlabel(\"Categories\", fontsize=12)\n",
    "plt.ylabel(\"Values\", fontsize=12)\n",
    "\n",
    "# Show plot\n",
    "plt.show()\n"
   ]
  }
 ],
 "metadata": {
  "language_info": {
   "name": "python"
  }
 },
 "nbformat": 4,
 "nbformat_minor": 2
}
