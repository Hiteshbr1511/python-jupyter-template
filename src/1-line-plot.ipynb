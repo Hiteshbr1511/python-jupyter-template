{
 "cells": [
  {
   "cell_type": "markdown",
   "metadata": {},
   "source": [
    "### Exercise 1: Line Plot Customization"
   ]
  },
  {
   "cell_type": "code",
   "execution_count": null,
   "metadata": {},
   "outputs": [],
   "source": []
  },
  {
   "cell_type": "code",
   "execution_count": null,
   "metadata": {},
   "outputs": [],
   "source": [
    "# TASK: Create a line plot with x values ranging from 0 to 10 and y values as the square of x.\n",
    "# Customize the plot by adding a title, labels for both axes, and a grid.\n",
    "import matplotlib.pyplot as plt\n",
    "import numpy as np\n",
    "\n",
    "# Generate data\n",
    "x = np.linspace(0, 10, 100)\n",
    "y = x**2\n",
    "\n",
    "# Create plot\n",
    "plt.figure(figsize=(8, 5))\n",
    "plt.plot(x, y, label=r'$y = x^2$', color='b', linewidth=2)\n",
    "\n",
    "# Customize plot\n",
    "plt.title(\"Line Plot of y = x^2\", fontsize=14)\n",
    "plt.xlabel(\"X values\", fontsize=12)\n",
    "plt.ylabel(\"Y values (Square of X)\", fontsize=12)\n",
    "plt.grid(True, linestyle='--', alpha=0.6)\n",
    "plt.legend()\n",
    "\n",
    "# Show plot\n",
    "plt.show()\n"
   ]
  }
 ],
 "metadata": {
  "language_info": {
   "name": "python"
  }
 },
 "nbformat": 4,
 "nbformat_minor": 2
}
